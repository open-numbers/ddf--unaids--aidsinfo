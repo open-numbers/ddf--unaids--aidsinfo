{
 "cells": [
  {
   "cell_type": "code",
   "execution_count": 1,
   "metadata": {
    "collapsed": true
   },
   "outputs": [],
   "source": [
    "import pandas as pd\n",
    "import numpy as np\n",
    "import os"
   ]
  },
  {
   "cell_type": "code",
   "execution_count": 2,
   "metadata": {
    "collapsed": true
   },
   "outputs": [],
   "source": [
    "from ddf_utils.str import to_concept_id\n",
    "from ddf_utils.index import create_index_file"
   ]
  },
  {
   "cell_type": "code",
   "execution_count": 3,
   "metadata": {
    "collapsed": true
   },
   "outputs": [],
   "source": [
    "source = 'source/AIDSinfo_2014_en.csv'"
   ]
  },
  {
   "cell_type": "code",
   "execution_count": 9,
   "metadata": {
    "collapsed": false
   },
   "outputs": [
    {
     "name": "stderr",
     "output_type": "stream",
     "text": [
      "b'Skipping line 272: expected 9 fields, saw 10\\n'\n",
      "b'Skipping line 274079: expected 9 fields, saw 10\\n'\n"
     ]
    }
   ],
   "source": [
    "data = pd.read_csv(source, error_bad_lines=False)"
   ]
  },
  {
   "cell_type": "code",
   "execution_count": 20,
   "metadata": {
    "collapsed": false
   },
   "outputs": [],
   "source": [
    "data = pd.read_csv(source, error_bad_lines=False)"
   ]
  },
  {
   "cell_type": "code",
   "execution_count": 22,
   "metadata": {
    "collapsed": false
   },
   "outputs": [
    {
     "data": {
      "text/html": [
       "<div>\n",
       "<table border=\"1\" class=\"dataframe\">\n",
       "  <thead>\n",
       "    <tr style=\"text-align: right;\">\n",
       "      <th></th>\n",
       "      <th>Indicator</th>\n",
       "      <th>Unit</th>\n",
       "      <th>Subgroup</th>\n",
       "      <th>Area</th>\n",
       "      <th>Area ID</th>\n",
       "      <th>Time Period</th>\n",
       "      <th>Source</th>\n",
       "      <th>Data Value</th>\n",
       "      <th>Footnotes</th>\n",
       "    </tr>\n",
       "  </thead>\n",
       "  <tbody>\n",
       "    <tr>\n",
       "      <th>0</th>\n",
       "      <td>Laws that impose compulsory detention for peop...</td>\n",
       "      <td>Yes/No</td>\n",
       "      <td>Reported</td>\n",
       "      <td>Viet Nam</td>\n",
       "      <td>VNM</td>\n",
       "      <td>2014</td>\n",
       "      <td>UNAIDS_GARPR_</td>\n",
       "      <td>1.0</td>\n",
       "      <td>NaN</td>\n",
       "    </tr>\n",
       "    <tr>\n",
       "      <th>1</th>\n",
       "      <td>Laws that impose compulsory detention for peop...</td>\n",
       "      <td>Yes/No</td>\n",
       "      <td>Reported</td>\n",
       "      <td>Sri Lanka</td>\n",
       "      <td>LKA</td>\n",
       "      <td>2014</td>\n",
       "      <td>UNAIDS_GARPR_</td>\n",
       "      <td>1.0</td>\n",
       "      <td>NaN</td>\n",
       "    </tr>\n",
       "    <tr>\n",
       "      <th>2</th>\n",
       "      <td>Laws that impose compulsory detention for peop...</td>\n",
       "      <td>Yes/No</td>\n",
       "      <td>Reported</td>\n",
       "      <td>Brunei Darussalam</td>\n",
       "      <td>BRN</td>\n",
       "      <td>2014</td>\n",
       "      <td>UNAIDS_GARPR_</td>\n",
       "      <td>1.0</td>\n",
       "      <td>NaN</td>\n",
       "    </tr>\n",
       "    <tr>\n",
       "      <th>3</th>\n",
       "      <td>Laws that impose compulsory detention for peop...</td>\n",
       "      <td>Yes/No</td>\n",
       "      <td>Reported</td>\n",
       "      <td>Indonesia</td>\n",
       "      <td>IDN</td>\n",
       "      <td>2014</td>\n",
       "      <td>UNAIDS_GARPR_</td>\n",
       "      <td>1.0</td>\n",
       "      <td>NaN</td>\n",
       "    </tr>\n",
       "    <tr>\n",
       "      <th>4</th>\n",
       "      <td>Laws that impose compulsory detention for peop...</td>\n",
       "      <td>Yes/No</td>\n",
       "      <td>Reported</td>\n",
       "      <td>Singapore</td>\n",
       "      <td>SGP</td>\n",
       "      <td>2014</td>\n",
       "      <td>UNAIDS_GARPR_</td>\n",
       "      <td>1.0</td>\n",
       "      <td>NaN</td>\n",
       "    </tr>\n",
       "  </tbody>\n",
       "</table>\n",
       "</div>"
      ],
      "text/plain": [
       "                                           Indicator    Unit  Subgroup  \\\n",
       "0  Laws that impose compulsory detention for peop...  Yes/No  Reported   \n",
       "1  Laws that impose compulsory detention for peop...  Yes/No  Reported   \n",
       "2  Laws that impose compulsory detention for peop...  Yes/No  Reported   \n",
       "3  Laws that impose compulsory detention for peop...  Yes/No  Reported   \n",
       "4  Laws that impose compulsory detention for peop...  Yes/No  Reported   \n",
       "\n",
       "                Area Area ID  Time Period         Source  Data Value Footnotes  \n",
       "0           Viet Nam     VNM         2014  UNAIDS_GARPR_         1.0       NaN  \n",
       "1          Sri Lanka     LKA         2014  UNAIDS_GARPR_         1.0       NaN  \n",
       "2  Brunei Darussalam     BRN         2014  UNAIDS_GARPR_         1.0       NaN  \n",
       "3          Indonesia     IDN         2014  UNAIDS_GARPR_         1.0       NaN  \n",
       "4          Singapore     SGP         2014  UNAIDS_GARPR_         1.0       NaN  "
      ]
     },
     "execution_count": 22,
     "metadata": {},
     "output_type": "execute_result"
    }
   ],
   "source": [
    "data.head()"
   ]
  },
  {
   "cell_type": "code",
   "execution_count": 23,
   "metadata": {
    "collapsed": true
   },
   "outputs": [],
   "source": [
    "data['Indicator'] = data['Indicator'].str.strip()"
   ]
  },
  {
   "cell_type": "code",
   "execution_count": null,
   "metadata": {
    "collapsed": true
   },
   "outputs": [],
   "source": []
  },
  {
   "cell_type": "code",
   "execution_count": 84,
   "metadata": {
    "collapsed": false
   },
   "outputs": [],
   "source": [
    "idx1 = data.query(\"Subgroup == '25+'\").index\n",
    "idx2 = data.query(\"Subgroup == '< 25'\").index"
   ]
  },
  {
   "cell_type": "code",
   "execution_count": 91,
   "metadata": {
    "collapsed": false
   },
   "outputs": [],
   "source": [
    "data.loc[idx1, 'Subgroup'] = '25plus'\n",
    "data.loc[idx2, 'Subgroup'] = 'below25'"
   ]
  },
  {
   "cell_type": "code",
   "execution_count": null,
   "metadata": {
    "collapsed": true
   },
   "outputs": [],
   "source": []
  },
  {
   "cell_type": "code",
   "execution_count": 92,
   "metadata": {
    "collapsed": true
   },
   "outputs": [],
   "source": [
    "data['cname'] = data['Indicator'] + ' ' + data['Subgroup']"
   ]
  },
  {
   "cell_type": "code",
   "execution_count": 94,
   "metadata": {
    "collapsed": false
   },
   "outputs": [
    {
     "data": {
      "text/plain": [
       "'Laws that impose compulsory detention for people who use drugs Reported'"
      ]
     },
     "execution_count": 94,
     "metadata": {},
     "output_type": "execute_result"
    }
   ],
   "source": [
    "data['cname'].ix[0]"
   ]
  },
  {
   "cell_type": "code",
   "execution_count": null,
   "metadata": {
    "collapsed": true
   },
   "outputs": [],
   "source": []
  },
  {
   "cell_type": "code",
   "execution_count": null,
   "metadata": {
    "collapsed": true
   },
   "outputs": [],
   "source": []
  },
  {
   "cell_type": "code",
   "execution_count": 95,
   "metadata": {
    "collapsed": true
   },
   "outputs": [],
   "source": [
    "conc = data[['cname', 'Unit']].copy()"
   ]
  },
  {
   "cell_type": "code",
   "execution_count": 96,
   "metadata": {
    "collapsed": false
   },
   "outputs": [],
   "source": [
    "conc = conc.drop_duplicates()"
   ]
  },
  {
   "cell_type": "code",
   "execution_count": 98,
   "metadata": {
    "collapsed": true
   },
   "outputs": [],
   "source": [
    "conc.columns = ['name', 'unit']"
   ]
  },
  {
   "cell_type": "code",
   "execution_count": 99,
   "metadata": {
    "collapsed": true
   },
   "outputs": [],
   "source": [
    "conc['concept_type'] = 'measure'"
   ]
  },
  {
   "cell_type": "code",
   "execution_count": 100,
   "metadata": {
    "collapsed": true
   },
   "outputs": [],
   "source": [
    "conc['concept'] = conc['name'].map(lambda x: to_concept_id(x, '[/ -\\\\.\\\\*\";:]+'))"
   ]
  },
  {
   "cell_type": "code",
   "execution_count": 101,
   "metadata": {
    "collapsed": false
   },
   "outputs": [
    {
     "data": {
      "text/plain": [
       "124"
      ]
     },
     "execution_count": 101,
     "metadata": {},
     "output_type": "execute_result"
    }
   ],
   "source": [
    "np.max(conc['concept'].map(len))"
   ]
  },
  {
   "cell_type": "code",
   "execution_count": 102,
   "metadata": {
    "collapsed": false
   },
   "outputs": [
    {
     "data": {
      "text/html": [
       "<div>\n",
       "<table border=\"1\" class=\"dataframe\">\n",
       "  <thead>\n",
       "    <tr style=\"text-align: right;\">\n",
       "      <th></th>\n",
       "      <th>name</th>\n",
       "      <th>unit</th>\n",
       "      <th>concept_type</th>\n",
       "      <th>concept</th>\n",
       "    </tr>\n",
       "  </thead>\n",
       "  <tbody>\n",
       "    <tr>\n",
       "      <th>0</th>\n",
       "      <td>Laws that impose compulsory detention for peop...</td>\n",
       "      <td>Yes/No</td>\n",
       "      <td>measure</td>\n",
       "      <td>laws_that_impose_compulsory_detention_for_peop...</td>\n",
       "    </tr>\n",
       "    <tr>\n",
       "      <th>5</th>\n",
       "      <td>Laws that specifically criminalise HIV non-dis...</td>\n",
       "      <td>Yes/No</td>\n",
       "      <td>measure</td>\n",
       "      <td>laws_that_specifically_criminalise_hiv_non_dis...</td>\n",
       "    </tr>\n",
       "    <tr>\n",
       "      <th>8</th>\n",
       "      <td>External economic support to the poorest house...</td>\n",
       "      <td>Percent</td>\n",
       "      <td>measure</td>\n",
       "      <td>external_economic_support_to_the_poorest_house...</td>\n",
       "    </tr>\n",
       "    <tr>\n",
       "      <th>22</th>\n",
       "      <td>Sex workers: Condom Use Females</td>\n",
       "      <td>Percent</td>\n",
       "      <td>measure</td>\n",
       "      <td>sex_workers_condom_use_females</td>\n",
       "    </tr>\n",
       "    <tr>\n",
       "      <th>27</th>\n",
       "      <td>Laws that provide for death penalty for drug o...</td>\n",
       "      <td>Yes/No</td>\n",
       "      <td>measure</td>\n",
       "      <td>laws_that_provide_for_death_penalty_for_drug_o...</td>\n",
       "    </tr>\n",
       "  </tbody>\n",
       "</table>\n",
       "</div>"
      ],
      "text/plain": [
       "                                                 name     unit concept_type  \\\n",
       "0   Laws that impose compulsory detention for peop...   Yes/No      measure   \n",
       "5   Laws that specifically criminalise HIV non-dis...   Yes/No      measure   \n",
       "8   External economic support to the poorest house...  Percent      measure   \n",
       "22                    Sex workers: Condom Use Females  Percent      measure   \n",
       "27  Laws that provide for death penalty for drug o...   Yes/No      measure   \n",
       "\n",
       "                                              concept  \n",
       "0   laws_that_impose_compulsory_detention_for_peop...  \n",
       "5   laws_that_specifically_criminalise_hiv_non_dis...  \n",
       "8   external_economic_support_to_the_poorest_house...  \n",
       "22                     sex_workers_condom_use_females  \n",
       "27  laws_that_provide_for_death_penalty_for_drug_o...  "
      ]
     },
     "execution_count": 102,
     "metadata": {},
     "output_type": "execute_result"
    }
   ],
   "source": [
    "conc.head()"
   ]
  },
  {
   "cell_type": "code",
   "execution_count": 103,
   "metadata": {
    "collapsed": true
   },
   "outputs": [],
   "source": [
    "disc = pd.DataFrame([['Name', np.nan, 'string', 'name'],\n",
    "                     ['Year', 'year', 'time', 'year'],\n",
    "                     ['Area', np.nan, 'entity_domain', 'area'],\n",
    "                     ['unit', np.nan, 'string', 'Unit']\n",
    "                    ], columns=conc.columns)"
   ]
  },
  {
   "cell_type": "code",
   "execution_count": 104,
   "metadata": {
    "collapsed": true
   },
   "outputs": [],
   "source": [
    "concept = pd.concat([disc, conc])"
   ]
  },
  {
   "cell_type": "code",
   "execution_count": 105,
   "metadata": {
    "collapsed": true
   },
   "outputs": [],
   "source": [
    "concept[['concept', 'name', 'concept_type', 'unit']].to_csv('../ddf--concepts.csv', index=False)"
   ]
  },
  {
   "cell_type": "code",
   "execution_count": 64,
   "metadata": {
    "collapsed": false
   },
   "outputs": [
    {
     "data": {
      "text/plain": [
       "'hiv_in_new_tb_cases'"
      ]
     },
     "execution_count": 64,
     "metadata": {},
     "output_type": "execute_result"
    }
   ],
   "source": [
    "concept.iloc[100, 3]"
   ]
  },
  {
   "cell_type": "code",
   "execution_count": null,
   "metadata": {
    "collapsed": true
   },
   "outputs": [],
   "source": []
  },
  {
   "cell_type": "code",
   "execution_count": 45,
   "metadata": {
    "collapsed": true
   },
   "outputs": [],
   "source": [
    "area = data[['Area ID', 'Area']]"
   ]
  },
  {
   "cell_type": "code",
   "execution_count": 47,
   "metadata": {
    "collapsed": true
   },
   "outputs": [],
   "source": [
    "area.columns = ['area', 'name']"
   ]
  },
  {
   "cell_type": "code",
   "execution_count": 49,
   "metadata": {
    "collapsed": false
   },
   "outputs": [],
   "source": [
    "area.drop_duplicates().sort_values(by='name').to_csv('../ddf--entities--country.csv', index=False)"
   ]
  },
  {
   "cell_type": "code",
   "execution_count": null,
   "metadata": {
    "collapsed": true
   },
   "outputs": [],
   "source": []
  },
  {
   "cell_type": "code",
   "execution_count": null,
   "metadata": {
    "collapsed": true
   },
   "outputs": [],
   "source": []
  },
  {
   "cell_type": "code",
   "execution_count": null,
   "metadata": {
    "collapsed": true
   },
   "outputs": [],
   "source": []
  },
  {
   "cell_type": "code",
   "execution_count": 106,
   "metadata": {
    "collapsed": true
   },
   "outputs": [],
   "source": [
    "dps = data[['cname', 'Time Period', 'Area ID', 'Data Value']].copy()"
   ]
  },
  {
   "cell_type": "code",
   "execution_count": 107,
   "metadata": {
    "collapsed": true
   },
   "outputs": [],
   "source": [
    "dps.columns = ['concept', 'year', 'area', 'data']"
   ]
  },
  {
   "cell_type": "code",
   "execution_count": 108,
   "metadata": {
    "collapsed": false
   },
   "outputs": [],
   "source": [
    "dps['concept'] = dps['concept'].map(lambda x: to_concept_id(x, '[/ -\\\\.\\\\*\";:]+'))"
   ]
  },
  {
   "cell_type": "code",
   "execution_count": 109,
   "metadata": {
    "collapsed": true
   },
   "outputs": [],
   "source": [
    "dps_gps = dps.groupby(by='concept')"
   ]
  },
  {
   "cell_type": "code",
   "execution_count": 113,
   "metadata": {
    "collapsed": false
   },
   "outputs": [],
   "source": [
    "for k, idx in dps_gps.groups.items():\n",
    "    df_ = dps.ix[idx][['year', 'area', 'data']].copy()\n",
    "    \n",
    "    df_.columns = ['year','area', k]\n",
    "    \n",
    "    path = os.path.join('../', 'ddf--datapoints--{}--by--area--year.csv'.format(k))\n",
    "    \n",
    "    assert(np.all(df_[['year', 'area']].duplicated()) == False)\n",
    "    \n",
    "    df_.sort_values(by=['area', 'year']).to_csv(path, index=False)"
   ]
  },
  {
   "cell_type": "code",
   "execution_count": 115,
   "metadata": {
    "collapsed": false
   },
   "outputs": [
    {
     "data": {
      "text/html": [
       "<div>\n",
       "<table border=\"1\" class=\"dataframe\">\n",
       "  <thead>\n",
       "    <tr style=\"text-align: right;\">\n",
       "      <th></th>\n",
       "      <th>key</th>\n",
       "      <th>value</th>\n",
       "      <th>file</th>\n",
       "    </tr>\n",
       "  </thead>\n",
       "  <tbody>\n",
       "    <tr>\n",
       "      <th>0</th>\n",
       "      <td>concept</td>\n",
       "      <td>name</td>\n",
       "      <td>ddf--concepts.csv</td>\n",
       "    </tr>\n",
       "    <tr>\n",
       "      <th>1</th>\n",
       "      <td>concept</td>\n",
       "      <td>concept_type</td>\n",
       "      <td>ddf--concepts.csv</td>\n",
       "    </tr>\n",
       "    <tr>\n",
       "      <th>2</th>\n",
       "      <td>concept</td>\n",
       "      <td>unit</td>\n",
       "      <td>ddf--concepts.csv</td>\n",
       "    </tr>\n",
       "    <tr>\n",
       "      <th>0</th>\n",
       "      <td>area,year</td>\n",
       "      <td>a_i_1_2_women_sector_has_earmarked_budget_repo...</td>\n",
       "      <td>ddf--datapoints--a_i_1_2_women_sector_has_earm...</td>\n",
       "    </tr>\n",
       "    <tr>\n",
       "      <th>0</th>\n",
       "      <td>area,year</td>\n",
       "      <td>a_i_1_2_women_sector_included_in_strategy_repo...</td>\n",
       "      <td>ddf--datapoints--a_i_1_2_women_sector_included...</td>\n",
       "    </tr>\n",
       "    <tr>\n",
       "      <th>0</th>\n",
       "      <td>area,year</td>\n",
       "      <td>a_i_1_3_strategy_addresses_gender_empowerment_...</td>\n",
       "      <td>ddf--datapoints--a_i_1_3_strategy_addresses_ge...</td>\n",
       "    </tr>\n",
       "    <tr>\n",
       "      <th>0</th>\n",
       "      <td>area,year</td>\n",
       "      <td>a_i_1_3_strategy_addresses_human_rights_protec...</td>\n",
       "      <td>ddf--datapoints--a_i_1_3_strategy_addresses_hu...</td>\n",
       "    </tr>\n",
       "    <tr>\n",
       "      <th>0</th>\n",
       "      <td>area,year</td>\n",
       "      <td>a_i_1_3_strategy_addresses_people_who_inject_d...</td>\n",
       "      <td>ddf--datapoints--a_i_1_3_strategy_addresses_pe...</td>\n",
       "    </tr>\n",
       "    <tr>\n",
       "      <th>0</th>\n",
       "      <td>area,year</td>\n",
       "      <td>a_i_1_3_strategy_addresses_stigma_and_discrimi...</td>\n",
       "      <td>ddf--datapoints--a_i_1_3_strategy_addresses_st...</td>\n",
       "    </tr>\n",
       "    <tr>\n",
       "      <th>0</th>\n",
       "      <td>area,year</td>\n",
       "      <td>a_i_1_3_strategy_addresses_transgender_people_...</td>\n",
       "      <td>ddf--datapoints--a_i_1_3_strategy_addresses_tr...</td>\n",
       "    </tr>\n",
       "    <tr>\n",
       "      <th>0</th>\n",
       "      <td>area,year</td>\n",
       "      <td>a_i_1_3_strategy_addresses_women_and_girls_rep...</td>\n",
       "      <td>ddf--datapoints--a_i_1_3_strategy_addresses_wo...</td>\n",
       "    </tr>\n",
       "    <tr>\n",
       "      <th>0</th>\n",
       "      <td>area,year</td>\n",
       "      <td>a_i_1_3_strategy_addresses_young_people_reported</td>\n",
       "      <td>ddf--datapoints--a_i_1_3_strategy_addresses_yo...</td>\n",
       "    </tr>\n",
       "    <tr>\n",
       "      <th>0</th>\n",
       "      <td>area,year</td>\n",
       "      <td>a_i_1_country_developed_a_national_multisector...</td>\n",
       "      <td>ddf--datapoints--a_i_1_country_developed_a_nat...</td>\n",
       "    </tr>\n",
       "    <tr>\n",
       "      <th>0</th>\n",
       "      <td>area,year</td>\n",
       "      <td>a_i_2_2_reduction_of_gender_inequalities_inclu...</td>\n",
       "      <td>ddf--datapoints--a_i_2_2_reduction_of_gender_i...</td>\n",
       "    </tr>\n",
       "    <tr>\n",
       "      <th>0</th>\n",
       "      <td>area,year</td>\n",
       "      <td>a_i_2_2_reduction_of_stigma_and_discrimination...</td>\n",
       "      <td>ddf--datapoints--a_i_2_2_reduction_of_stigma_a...</td>\n",
       "    </tr>\n",
       "    <tr>\n",
       "      <th>0</th>\n",
       "      <td>area,year</td>\n",
       "      <td>a_i_5_4_country_developed_a_plan_to_strengthen...</td>\n",
       "      <td>ddf--datapoints--a_i_5_4_country_developed_a_p...</td>\n",
       "    </tr>\n",
       "    <tr>\n",
       "      <th>0</th>\n",
       "      <td>area,year</td>\n",
       "      <td>a_iii_1_1_has_laws_that_protect_men_who_have_s...</td>\n",
       "      <td>ddf--datapoints--a_iii_1_1_has_laws_that_prote...</td>\n",
       "    </tr>\n",
       "    <tr>\n",
       "      <th>0</th>\n",
       "      <td>area,year</td>\n",
       "      <td>a_iii_1_1_has_laws_that_protect_people_who_inj...</td>\n",
       "      <td>ddf--datapoints--a_iii_1_1_has_laws_that_prote...</td>\n",
       "    </tr>\n",
       "    <tr>\n",
       "      <th>0</th>\n",
       "      <td>area,year</td>\n",
       "      <td>a_iii_1_1_has_laws_that_protect_prison_inmates...</td>\n",
       "      <td>ddf--datapoints--a_iii_1_1_has_laws_that_prote...</td>\n",
       "    </tr>\n",
       "    <tr>\n",
       "      <th>0</th>\n",
       "      <td>area,year</td>\n",
       "      <td>a_iii_1_1_has_laws_that_protect_sex_workers_re...</td>\n",
       "      <td>ddf--datapoints--a_iii_1_1_has_laws_that_prote...</td>\n",
       "    </tr>\n",
       "    <tr>\n",
       "      <th>0</th>\n",
       "      <td>area,year</td>\n",
       "      <td>a_iii_1_1_has_laws_that_protect_women_and_girl...</td>\n",
       "      <td>ddf--datapoints--a_iii_1_1_has_laws_that_prote...</td>\n",
       "    </tr>\n",
       "    <tr>\n",
       "      <th>0</th>\n",
       "      <td>area,year</td>\n",
       "      <td>a_iii_1_1_has_laws_that_protect_young_people_r...</td>\n",
       "      <td>ddf--datapoints--a_iii_1_1_has_laws_that_prote...</td>\n",
       "    </tr>\n",
       "    <tr>\n",
       "      <th>0</th>\n",
       "      <td>area,year</td>\n",
       "      <td>a_iii_2_has_laws_that_present_obstacles_to_key...</td>\n",
       "      <td>ddf--datapoints--a_iii_2_has_laws_that_present...</td>\n",
       "    </tr>\n",
       "    <tr>\n",
       "      <th>0</th>\n",
       "      <td>area,year</td>\n",
       "      <td>a_iii_2_has_laws_that_present_obstacles_to_men...</td>\n",
       "      <td>ddf--datapoints--a_iii_2_has_laws_that_present...</td>\n",
       "    </tr>\n",
       "    <tr>\n",
       "      <th>0</th>\n",
       "      <td>area,year</td>\n",
       "      <td>a_iii_2_has_laws_that_present_obstacles_to_peo...</td>\n",
       "      <td>ddf--datapoints--a_iii_2_has_laws_that_present...</td>\n",
       "    </tr>\n",
       "    <tr>\n",
       "      <th>0</th>\n",
       "      <td>area,year</td>\n",
       "      <td>a_iii_2_has_laws_that_present_obstacles_to_sex...</td>\n",
       "      <td>ddf--datapoints--a_iii_2_has_laws_that_present...</td>\n",
       "    </tr>\n",
       "    <tr>\n",
       "      <th>0</th>\n",
       "      <td>area,year</td>\n",
       "      <td>a_iii_2_has_laws_that_present_obstacles_to_wom...</td>\n",
       "      <td>ddf--datapoints--a_iii_2_has_laws_that_present...</td>\n",
       "    </tr>\n",
       "    <tr>\n",
       "      <th>0</th>\n",
       "      <td>area,year</td>\n",
       "      <td>a_iv_1_has_policy_strategy_to_promote_fight_ag...</td>\n",
       "      <td>ddf--datapoints--a_iv_1_has_policy_strategy_to...</td>\n",
       "    </tr>\n",
       "    <tr>\n",
       "      <th>0</th>\n",
       "      <td>area,year</td>\n",
       "      <td>a_iv_1_has_policy_strategy_to_promote_use_of_c...</td>\n",
       "      <td>ddf--datapoints--a_iv_1_has_policy_strategy_to...</td>\n",
       "    </tr>\n",
       "    <tr>\n",
       "      <th>0</th>\n",
       "      <td>area,year</td>\n",
       "      <td>aids_incidence_among_injecting_drug_users_per_...</td>\n",
       "      <td>ddf--datapoints--aids_incidence_among_injectin...</td>\n",
       "    </tr>\n",
       "    <tr>\n",
       "      <th>...</th>\n",
       "      <td>...</td>\n",
       "      <td>...</td>\n",
       "      <td>...</td>\n",
       "    </tr>\n",
       "    <tr>\n",
       "      <th>0</th>\n",
       "      <td>area,year</td>\n",
       "      <td>sex_workers_hiv_prevalence_25plus</td>\n",
       "      <td>ddf--datapoints--sex_workers_hiv_prevalence_25...</td>\n",
       "    </tr>\n",
       "    <tr>\n",
       "      <th>0</th>\n",
       "      <td>area,year</td>\n",
       "      <td>sex_workers_hiv_prevalence_below25</td>\n",
       "      <td>ddf--datapoints--sex_workers_hiv_prevalence_be...</td>\n",
       "    </tr>\n",
       "    <tr>\n",
       "      <th>0</th>\n",
       "      <td>area,year</td>\n",
       "      <td>sex_workers_hiv_prevalence_females</td>\n",
       "      <td>ddf--datapoints--sex_workers_hiv_prevalence_fe...</td>\n",
       "    </tr>\n",
       "    <tr>\n",
       "      <th>0</th>\n",
       "      <td>area,year</td>\n",
       "      <td>sex_workers_hiv_prevalence_males</td>\n",
       "      <td>ddf--datapoints--sex_workers_hiv_prevalence_ma...</td>\n",
       "    </tr>\n",
       "    <tr>\n",
       "      <th>0</th>\n",
       "      <td>area,year</td>\n",
       "      <td>sex_workers_hiv_prevalence_total</td>\n",
       "      <td>ddf--datapoints--sex_workers_hiv_prevalence_to...</td>\n",
       "    </tr>\n",
       "    <tr>\n",
       "      <th>0</th>\n",
       "      <td>area,year</td>\n",
       "      <td>sex_workers_hiv_prevalence_transgender</td>\n",
       "      <td>ddf--datapoints--sex_workers_hiv_prevalence_tr...</td>\n",
       "    </tr>\n",
       "    <tr>\n",
       "      <th>0</th>\n",
       "      <td>area,year</td>\n",
       "      <td>sex_workers_hiv_testing_25plus</td>\n",
       "      <td>ddf--datapoints--sex_workers_hiv_testing_25plu...</td>\n",
       "    </tr>\n",
       "    <tr>\n",
       "      <th>0</th>\n",
       "      <td>area,year</td>\n",
       "      <td>sex_workers_hiv_testing_below25</td>\n",
       "      <td>ddf--datapoints--sex_workers_hiv_testing_below...</td>\n",
       "    </tr>\n",
       "    <tr>\n",
       "      <th>0</th>\n",
       "      <td>area,year</td>\n",
       "      <td>sex_workers_hiv_testing_females</td>\n",
       "      <td>ddf--datapoints--sex_workers_hiv_testing_femal...</td>\n",
       "    </tr>\n",
       "    <tr>\n",
       "      <th>0</th>\n",
       "      <td>area,year</td>\n",
       "      <td>sex_workers_hiv_testing_males</td>\n",
       "      <td>ddf--datapoints--sex_workers_hiv_testing_males...</td>\n",
       "    </tr>\n",
       "    <tr>\n",
       "      <th>0</th>\n",
       "      <td>area,year</td>\n",
       "      <td>sex_workers_hiv_testing_total</td>\n",
       "      <td>ddf--datapoints--sex_workers_hiv_testing_total...</td>\n",
       "    </tr>\n",
       "    <tr>\n",
       "      <th>0</th>\n",
       "      <td>area,year</td>\n",
       "      <td>sex_workers_hiv_testing_transgender</td>\n",
       "      <td>ddf--datapoints--sex_workers_hiv_testing_trans...</td>\n",
       "    </tr>\n",
       "    <tr>\n",
       "      <th>0</th>\n",
       "      <td>area,year</td>\n",
       "      <td>sex_workers_population_size_estimate_estimate</td>\n",
       "      <td>ddf--datapoints--sex_workers_population_size_e...</td>\n",
       "    </tr>\n",
       "    <tr>\n",
       "      <th>0</th>\n",
       "      <td>area,year</td>\n",
       "      <td>sex_workers_population_size_estimate_lower_est...</td>\n",
       "      <td>ddf--datapoints--sex_workers_population_size_e...</td>\n",
       "    </tr>\n",
       "    <tr>\n",
       "      <th>0</th>\n",
       "      <td>area,year</td>\n",
       "      <td>sex_workers_population_size_estimate_upper_est...</td>\n",
       "      <td>ddf--datapoints--sex_workers_population_size_e...</td>\n",
       "    </tr>\n",
       "    <tr>\n",
       "      <th>0</th>\n",
       "      <td>area,year</td>\n",
       "      <td>tb_patients_living_with_hiv_receiving_art_total</td>\n",
       "      <td>ddf--datapoints--tb_patients_living_with_hiv_r...</td>\n",
       "    </tr>\n",
       "    <tr>\n",
       "      <th>0</th>\n",
       "      <td>area,year</td>\n",
       "      <td>tb_patients_living_with_hiv_receiving_cpt_total</td>\n",
       "      <td>ddf--datapoints--tb_patients_living_with_hiv_r...</td>\n",
       "    </tr>\n",
       "    <tr>\n",
       "      <th>0</th>\n",
       "      <td>area,year</td>\n",
       "      <td>tb_patients_tested_positive_for_hiv_total</td>\n",
       "      <td>ddf--datapoints--tb_patients_tested_positive_f...</td>\n",
       "    </tr>\n",
       "    <tr>\n",
       "      <th>0</th>\n",
       "      <td>area,year</td>\n",
       "      <td>tb_related_deaths_among_people_living_with_hiv...</td>\n",
       "      <td>ddf--datapoints--tb_related_deaths_among_peopl...</td>\n",
       "    </tr>\n",
       "    <tr>\n",
       "      <th>0</th>\n",
       "      <td>area,year</td>\n",
       "      <td>tb_related_deaths_among_people_living_with_hiv...</td>\n",
       "      <td>ddf--datapoints--tb_related_deaths_among_peopl...</td>\n",
       "    </tr>\n",
       "    <tr>\n",
       "      <th>0</th>\n",
       "      <td>area,year</td>\n",
       "      <td>tb_related_deaths_among_people_living_with_hiv...</td>\n",
       "      <td>ddf--datapoints--tb_related_deaths_among_peopl...</td>\n",
       "    </tr>\n",
       "    <tr>\n",
       "      <th>0</th>\n",
       "      <td>area,year</td>\n",
       "      <td>total_new_and_relapse_tb_cases_total</td>\n",
       "      <td>ddf--datapoints--total_new_and_relapse_tb_case...</td>\n",
       "    </tr>\n",
       "    <tr>\n",
       "      <th>0</th>\n",
       "      <td>area,year</td>\n",
       "      <td>total_tb_expenditure_total</td>\n",
       "      <td>ddf--datapoints--total_tb_expenditure_total--b...</td>\n",
       "    </tr>\n",
       "    <tr>\n",
       "      <th>0</th>\n",
       "      <td>area,year</td>\n",
       "      <td>twelve_month_retention_on_antiretroviral_thera...</td>\n",
       "      <td>ddf--datapoints--twelve_month_retention_on_ant...</td>\n",
       "    </tr>\n",
       "    <tr>\n",
       "      <th>0</th>\n",
       "      <td>area,year</td>\n",
       "      <td>twelve_month_retention_on_antiretroviral_thera...</td>\n",
       "      <td>ddf--datapoints--twelve_month_retention_on_ant...</td>\n",
       "    </tr>\n",
       "    <tr>\n",
       "      <th>0</th>\n",
       "      <td>area,year</td>\n",
       "      <td>twelve_month_retention_on_antiretroviral_thera...</td>\n",
       "      <td>ddf--datapoints--twelve_month_retention_on_ant...</td>\n",
       "    </tr>\n",
       "    <tr>\n",
       "      <th>0</th>\n",
       "      <td>area,year</td>\n",
       "      <td>unaids_country_offices_program_data</td>\n",
       "      <td>ddf--datapoints--unaids_country_offices_progra...</td>\n",
       "    </tr>\n",
       "    <tr>\n",
       "      <th>0</th>\n",
       "      <td>area,year</td>\n",
       "      <td>unaids_geographical_regions_program_data</td>\n",
       "      <td>ddf--datapoints--unaids_geographical_regions_p...</td>\n",
       "    </tr>\n",
       "    <tr>\n",
       "      <th>0</th>\n",
       "      <td>area,year</td>\n",
       "      <td>unaids_regional_support_teams_program_data</td>\n",
       "      <td>ddf--datapoints--unaids_regional_support_teams...</td>\n",
       "    </tr>\n",
       "    <tr>\n",
       "      <th>0</th>\n",
       "      <td>area</td>\n",
       "      <td>name</td>\n",
       "      <td>ddf--entities--area.csv</td>\n",
       "    </tr>\n",
       "  </tbody>\n",
       "</table>\n",
       "<p>329 rows × 3 columns</p>\n",
       "</div>"
      ],
      "text/plain": [
       "          key                                              value  \\\n",
       "0     concept                                               name   \n",
       "1     concept                                       concept_type   \n",
       "2     concept                                               unit   \n",
       "0   area,year  a_i_1_2_women_sector_has_earmarked_budget_repo...   \n",
       "0   area,year  a_i_1_2_women_sector_included_in_strategy_repo...   \n",
       "0   area,year  a_i_1_3_strategy_addresses_gender_empowerment_...   \n",
       "0   area,year  a_i_1_3_strategy_addresses_human_rights_protec...   \n",
       "0   area,year  a_i_1_3_strategy_addresses_people_who_inject_d...   \n",
       "0   area,year  a_i_1_3_strategy_addresses_stigma_and_discrimi...   \n",
       "0   area,year  a_i_1_3_strategy_addresses_transgender_people_...   \n",
       "0   area,year  a_i_1_3_strategy_addresses_women_and_girls_rep...   \n",
       "0   area,year   a_i_1_3_strategy_addresses_young_people_reported   \n",
       "0   area,year  a_i_1_country_developed_a_national_multisector...   \n",
       "0   area,year  a_i_2_2_reduction_of_gender_inequalities_inclu...   \n",
       "0   area,year  a_i_2_2_reduction_of_stigma_and_discrimination...   \n",
       "0   area,year  a_i_5_4_country_developed_a_plan_to_strengthen...   \n",
       "0   area,year  a_iii_1_1_has_laws_that_protect_men_who_have_s...   \n",
       "0   area,year  a_iii_1_1_has_laws_that_protect_people_who_inj...   \n",
       "0   area,year  a_iii_1_1_has_laws_that_protect_prison_inmates...   \n",
       "0   area,year  a_iii_1_1_has_laws_that_protect_sex_workers_re...   \n",
       "0   area,year  a_iii_1_1_has_laws_that_protect_women_and_girl...   \n",
       "0   area,year  a_iii_1_1_has_laws_that_protect_young_people_r...   \n",
       "0   area,year  a_iii_2_has_laws_that_present_obstacles_to_key...   \n",
       "0   area,year  a_iii_2_has_laws_that_present_obstacles_to_men...   \n",
       "0   area,year  a_iii_2_has_laws_that_present_obstacles_to_peo...   \n",
       "0   area,year  a_iii_2_has_laws_that_present_obstacles_to_sex...   \n",
       "0   area,year  a_iii_2_has_laws_that_present_obstacles_to_wom...   \n",
       "0   area,year  a_iv_1_has_policy_strategy_to_promote_fight_ag...   \n",
       "0   area,year  a_iv_1_has_policy_strategy_to_promote_use_of_c...   \n",
       "0   area,year  aids_incidence_among_injecting_drug_users_per_...   \n",
       "..        ...                                                ...   \n",
       "0   area,year                  sex_workers_hiv_prevalence_25plus   \n",
       "0   area,year                 sex_workers_hiv_prevalence_below25   \n",
       "0   area,year                 sex_workers_hiv_prevalence_females   \n",
       "0   area,year                   sex_workers_hiv_prevalence_males   \n",
       "0   area,year                   sex_workers_hiv_prevalence_total   \n",
       "0   area,year             sex_workers_hiv_prevalence_transgender   \n",
       "0   area,year                     sex_workers_hiv_testing_25plus   \n",
       "0   area,year                    sex_workers_hiv_testing_below25   \n",
       "0   area,year                    sex_workers_hiv_testing_females   \n",
       "0   area,year                      sex_workers_hiv_testing_males   \n",
       "0   area,year                      sex_workers_hiv_testing_total   \n",
       "0   area,year                sex_workers_hiv_testing_transgender   \n",
       "0   area,year      sex_workers_population_size_estimate_estimate   \n",
       "0   area,year  sex_workers_population_size_estimate_lower_est...   \n",
       "0   area,year  sex_workers_population_size_estimate_upper_est...   \n",
       "0   area,year    tb_patients_living_with_hiv_receiving_art_total   \n",
       "0   area,year    tb_patients_living_with_hiv_receiving_cpt_total   \n",
       "0   area,year          tb_patients_tested_positive_for_hiv_total   \n",
       "0   area,year  tb_related_deaths_among_people_living_with_hiv...   \n",
       "0   area,year  tb_related_deaths_among_people_living_with_hiv...   \n",
       "0   area,year  tb_related_deaths_among_people_living_with_hiv...   \n",
       "0   area,year               total_new_and_relapse_tb_cases_total   \n",
       "0   area,year                         total_tb_expenditure_total   \n",
       "0   area,year  twelve_month_retention_on_antiretroviral_thera...   \n",
       "0   area,year  twelve_month_retention_on_antiretroviral_thera...   \n",
       "0   area,year  twelve_month_retention_on_antiretroviral_thera...   \n",
       "0   area,year                unaids_country_offices_program_data   \n",
       "0   area,year           unaids_geographical_regions_program_data   \n",
       "0   area,year         unaids_regional_support_teams_program_data   \n",
       "0        area                                               name   \n",
       "\n",
       "                                                 file  \n",
       "0                                   ddf--concepts.csv  \n",
       "1                                   ddf--concepts.csv  \n",
       "2                                   ddf--concepts.csv  \n",
       "0   ddf--datapoints--a_i_1_2_women_sector_has_earm...  \n",
       "0   ddf--datapoints--a_i_1_2_women_sector_included...  \n",
       "0   ddf--datapoints--a_i_1_3_strategy_addresses_ge...  \n",
       "0   ddf--datapoints--a_i_1_3_strategy_addresses_hu...  \n",
       "0   ddf--datapoints--a_i_1_3_strategy_addresses_pe...  \n",
       "0   ddf--datapoints--a_i_1_3_strategy_addresses_st...  \n",
       "0   ddf--datapoints--a_i_1_3_strategy_addresses_tr...  \n",
       "0   ddf--datapoints--a_i_1_3_strategy_addresses_wo...  \n",
       "0   ddf--datapoints--a_i_1_3_strategy_addresses_yo...  \n",
       "0   ddf--datapoints--a_i_1_country_developed_a_nat...  \n",
       "0   ddf--datapoints--a_i_2_2_reduction_of_gender_i...  \n",
       "0   ddf--datapoints--a_i_2_2_reduction_of_stigma_a...  \n",
       "0   ddf--datapoints--a_i_5_4_country_developed_a_p...  \n",
       "0   ddf--datapoints--a_iii_1_1_has_laws_that_prote...  \n",
       "0   ddf--datapoints--a_iii_1_1_has_laws_that_prote...  \n",
       "0   ddf--datapoints--a_iii_1_1_has_laws_that_prote...  \n",
       "0   ddf--datapoints--a_iii_1_1_has_laws_that_prote...  \n",
       "0   ddf--datapoints--a_iii_1_1_has_laws_that_prote...  \n",
       "0   ddf--datapoints--a_iii_1_1_has_laws_that_prote...  \n",
       "0   ddf--datapoints--a_iii_2_has_laws_that_present...  \n",
       "0   ddf--datapoints--a_iii_2_has_laws_that_present...  \n",
       "0   ddf--datapoints--a_iii_2_has_laws_that_present...  \n",
       "0   ddf--datapoints--a_iii_2_has_laws_that_present...  \n",
       "0   ddf--datapoints--a_iii_2_has_laws_that_present...  \n",
       "0   ddf--datapoints--a_iv_1_has_policy_strategy_to...  \n",
       "0   ddf--datapoints--a_iv_1_has_policy_strategy_to...  \n",
       "0   ddf--datapoints--aids_incidence_among_injectin...  \n",
       "..                                                ...  \n",
       "0   ddf--datapoints--sex_workers_hiv_prevalence_25...  \n",
       "0   ddf--datapoints--sex_workers_hiv_prevalence_be...  \n",
       "0   ddf--datapoints--sex_workers_hiv_prevalence_fe...  \n",
       "0   ddf--datapoints--sex_workers_hiv_prevalence_ma...  \n",
       "0   ddf--datapoints--sex_workers_hiv_prevalence_to...  \n",
       "0   ddf--datapoints--sex_workers_hiv_prevalence_tr...  \n",
       "0   ddf--datapoints--sex_workers_hiv_testing_25plu...  \n",
       "0   ddf--datapoints--sex_workers_hiv_testing_below...  \n",
       "0   ddf--datapoints--sex_workers_hiv_testing_femal...  \n",
       "0   ddf--datapoints--sex_workers_hiv_testing_males...  \n",
       "0   ddf--datapoints--sex_workers_hiv_testing_total...  \n",
       "0   ddf--datapoints--sex_workers_hiv_testing_trans...  \n",
       "0   ddf--datapoints--sex_workers_population_size_e...  \n",
       "0   ddf--datapoints--sex_workers_population_size_e...  \n",
       "0   ddf--datapoints--sex_workers_population_size_e...  \n",
       "0   ddf--datapoints--tb_patients_living_with_hiv_r...  \n",
       "0   ddf--datapoints--tb_patients_living_with_hiv_r...  \n",
       "0   ddf--datapoints--tb_patients_tested_positive_f...  \n",
       "0   ddf--datapoints--tb_related_deaths_among_peopl...  \n",
       "0   ddf--datapoints--tb_related_deaths_among_peopl...  \n",
       "0   ddf--datapoints--tb_related_deaths_among_peopl...  \n",
       "0   ddf--datapoints--total_new_and_relapse_tb_case...  \n",
       "0   ddf--datapoints--total_tb_expenditure_total--b...  \n",
       "0   ddf--datapoints--twelve_month_retention_on_ant...  \n",
       "0   ddf--datapoints--twelve_month_retention_on_ant...  \n",
       "0   ddf--datapoints--twelve_month_retention_on_ant...  \n",
       "0   ddf--datapoints--unaids_country_offices_progra...  \n",
       "0   ddf--datapoints--unaids_geographical_regions_p...  \n",
       "0   ddf--datapoints--unaids_regional_support_teams...  \n",
       "0                             ddf--entities--area.csv  \n",
       "\n",
       "[329 rows x 3 columns]"
      ]
     },
     "execution_count": 115,
     "metadata": {},
     "output_type": "execute_result"
    }
   ],
   "source": [
    "create_index_file('../')"
   ]
  },
  {
   "cell_type": "code",
   "execution_count": null,
   "metadata": {
    "collapsed": true
   },
   "outputs": [],
   "source": []
  }
 ],
 "metadata": {
  "kernelspec": {
   "display_name": "Python 3",
   "language": "python",
   "name": "python3"
  },
  "language_info": {
   "codemirror_mode": {
    "name": "ipython",
    "version": 3
   },
   "file_extension": ".py",
   "mimetype": "text/x-python",
   "name": "python",
   "nbconvert_exporter": "python",
   "pygments_lexer": "ipython3",
   "version": "3.5.1"
  }
 },
 "nbformat": 4,
 "nbformat_minor": 0
}
